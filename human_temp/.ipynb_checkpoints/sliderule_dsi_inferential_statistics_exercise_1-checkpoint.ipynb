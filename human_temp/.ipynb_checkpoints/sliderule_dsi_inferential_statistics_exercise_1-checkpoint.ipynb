{
 "cells": [
  {
   "cell_type": "markdown",
   "metadata": {},
   "source": [
    "# What is the True Normal Human Body Temperature? \n",
    "\n",
    "#### Background\n",
    "\n",
    "The mean normal body temperature was held to be 37$^{\\circ}$C or 98.6$^{\\circ}$F for more than 120 years since it was first conceptualized and reported by Carl Wunderlich in a famous 1868 book. But, is this value statistically correct?"
   ]
  },
  {
   "cell_type": "markdown",
   "metadata": {},
   "source": [
    "<div class=\"span5 alert alert-info\">\n",
    "<h3>Exercises</h3>\n",
    "\n",
    "<p>In this exercise, you will analyze a dataset of human body temperatures and employ the concepts of hypothesis testing, confidence intervals, and statistical significance.</p>\n",
    "\n",
    "<p>Answer the following questions <b>in this notebook below and submit to your Github account</b>.</p> \n",
    "\n",
    "<ol>\n",
    "<li>  Is the distribution of body temperatures normal? \n",
    "    <ul>\n",
    "    <li> Although this is not a requirement for CLT to hold (read CLT carefully), it gives us some peace of mind that the population may also be normally distributed if we assume that this sample is representative of the population.\n",
    "    </ul>\n",
    "<li>  Is the sample size large? Are the observations independent?\n",
    "    <ul>\n",
    "    <li> Remember that this is a condition for the CLT, and hence the statistical tests we are using, to apply.\n",
    "    </ul>\n",
    "<li>  Is the true population mean really 98.6 degrees F?\n",
    "    <ul>\n",
    "    <li> Would you use a one-sample or two-sample test? Why?\n",
    "    <li> In this situation, is it appropriate to use the $t$ or $z$ statistic? \n",
    "    <li> Now try using the other test. How is the result be different? Why?\n",
    "    </ul>\n",
    "<li>  At what temperature should we consider someone's temperature to be \"abnormal\"?\n",
    "    <ul>\n",
    "    <li> Start by computing the margin of error and confidence interval.\n",
    "    </ul>\n",
    "<li>  Is there a significant difference between males and females in normal temperature?\n",
    "    <ul>\n",
    "    <li> What test did you use and why?\n",
    "    <li> Write a story with your conclusion in the context of the original problem.\n",
    "    </ul>\n",
    "</ol>\n",
    "\n",
    "You can include written notes in notebook cells using Markdown: \n",
    "   - In the control panel at the top, choose Cell > Cell Type > Markdown\n",
    "   - Markdown syntax: http://nestacms.com/docs/creating-content/markdown-cheat-sheet\n",
    "\n",
    "#### Resources\n",
    "\n",
    "+ Information and data sources: http://www.amstat.org/publications/jse/datasets/normtemp.txt, http://www.amstat.org/publications/jse/jse_data_archive.htm\n",
    "+ Markdown syntax: http://nestacms.com/docs/creating-content/markdown-cheat-sheet\n",
    "\n",
    "****\n",
    "</div>"
   ]
  },
  {
   "cell_type": "code",
   "execution_count": 162,
   "metadata": {
    "collapsed": true
   },
   "outputs": [],
   "source": [
    "import pandas as pd\n",
    "import numpy as np\n",
    "import seaborn as sns\n",
    "from scipy import stats\n",
    "from ipywidgets import interact, interactive, fixed\n",
    "import ipywidgets as widgets\n",
    "import matplotlib.pyplot as pyplot\n",
    "\n",
    "df = pd.read_csv('data/human_body_temperature.csv')\n",
    "%matplotlib inline  \n",
    "%qtconsole%"
   ]
  },
  {
   "cell_type": "markdown",
   "metadata": {},
   "source": [
    "### Question 1. Test Normality\n",
    "Approach:\n",
    "- Generate normalized data randomly \n",
    "- normalize data by subtracting mean and dividing by sd\n",
    "- plot both"
   ]
  },
  {
   "cell_type": "code",
   "execution_count": 61,
   "metadata": {
    "scrolled": false
   },
   "outputs": [
    {
     "data": {
      "image/png": "[encoded data removed]",
      "text/plain": [
       "<matplotlib.figure.Figure at 0x2cae3b19390>"
      ]
     },
     "metadata": {},
     "output_type": "display_data"
    }
   ],
   "source": [
    "# generate norm distribution data\n",
    "data_norm_generated = stats.norm.rvs(size=1000) \n",
    "# normalized sample data\n",
    "data_to_test = (df.temperature - np.mean(df.temperature))/np.std(df.temperature)\n",
    "_ = sns.kdeplot(data_norm_generated),sns.kdeplot(data_to_test)"
   ]
  },
  {
   "cell_type": "markdown",
   "metadata": {},
   "source": [
    "#### Question 2:\n",
    "- Is the sample large enough? This depends on whether the variable will follow the normal distribution. If there is skewness I will need a larger sample. \n",
    "    - Based on my research, it seems that given that my dataset is not too skewed, or has outliers, and roughly follows a normal distribution, then samples of 30 + will be enough. In my case, calling df.shape gives me a number of observarions equal to 130. This should be sufficient.\n",
    "- I am not sure that I can assume independence yet as I do not know about the sampling process. If the data were a random sample of the population of different individuals (where no individual is sampled twice) at around the same point in time period, then I can assume so. "
   ]
  },
  {
   "cell_type": "code",
   "execution_count": 72,
   "metadata": {
    "scrolled": true
   },
   "outputs": [
    {
     "data": {
      "text/plain": [
       "((130, 3),    temperature gender  heart_rate\n",
       " 0         99.3      F        68.0\n",
       " 1         98.4      F        81.0\n",
       " 2         97.8      M        73.0\n",
       " 3         99.2      F        66.0\n",
       " 4         98.0      F        73.0)"
      ]
     },
     "execution_count": 72,
     "metadata": {},
     "output_type": "execute_result"
    }
   ],
   "source": [
    "df.shape, df.head()"
   ]
  },
  {
   "cell_type": "markdown",
   "metadata": {},
   "source": [
    "#### Question 3:\n",
    "- A. Is the true population mean really 98.6 degrees F?\n",
    "    - We don't really know unless we take the temperature of every single person in the world. \n",
    "    - We can approximate by sampling and having best sampling practices and having a large sample.\n",
    "    - To get a sense if our sample reflects this I can use resampling to create cofidence intervals: In my resampling, I find that the 90% CI is [ 98.192  98.304] which does not contain 98.6. \n",
    "- B. Would you use a one-sample or two-sample test? Why?\n",
    "    - I would use a two-sample test because the true temperature can be higher or lower. \n",
    "- C. In this situation, is it appropriate to use the  t  or  z  statistic?\n",
    "    - If the sample size is large and/or the population parameters are known, then we should use the z-statistic. Else we should use the t-statistic. In this case we should the t -statisitic because we don't know the population standard deviation.\n",
    "- D. Now try using the other test. How is the result be different? Why?\n",
    "    - the difference plays out when we're looking at confidence intervals. In the z-statistic the n-size affects the z-stat which in turns results in smaller or larger measurement error. This is because the sample standard deviation becomes smaller\n",
    "    - With large sample size they should look the same."
   ]
  },
  {
   "cell_type": "code",
   "execution_count": 245,
   "metadata": {},
   "outputs": [
    {
     "data": {
      "text/plain": [
       "1.618079669911781"
      ]
     },
     "execution_count": 245,
     "metadata": {},
     "output_type": "execute_result"
    }
   ],
   "source": [
    "def se(n):\n",
    "    se = 12/np.sqrt(n)\n",
    "    z = (96-100)/se\n",
    "    return se\n",
    "se(55)"
   ]
  },
  {
   "cell_type": "code",
   "execution_count": 271,
   "metadata": {},
   "outputs": [],
   "source": [
    "temps = df.temperature\n",
    "def sampler(n, data = temps):\n",
    "    mean_i = data.sample(n).mean()\n",
    "    return mean_i\n",
    "def compute_sample(n=100, iters=1000, data = temps):\n",
    "    stats = [sampler(n, data) for i in range(iters)]\n",
    "    return np.array(stats)\n",
    "def sample_plot(n, iters = 1000, data = temps):\n",
    "    out = compute_sample(n, iters, data)\n",
    "    ci_90 = np.percentile(out,[5,95])\n",
    "    sns.plt.hist(np.array(out))\n",
    "    pyplot.plot([out.mean(),out.mean()],[0,300])\n",
    "    pyplot.plot([ci_90[0],ci_90[0]],[0,300])\n",
    "    pyplot.plot([ci_90[1],ci_90[1]],[0,300])\n",
    "    return ci_90\n"
   ]
  },
  {
   "cell_type": "code",
   "execution_count": 268,
   "metadata": {},
   "outputs": [
    {
     "data": {
      "text/plain": [
       "(98.589679168445016, 0.066861949185886255)"
      ]
     },
     "execution_count": 268,
     "metadata": {},
     "output_type": "execute_result"
    }
   ],
   "source": [
    "pop_sd = temps.std()/np.sqrt(130)\n",
    "population = np.random.normal(98.6, pop_sd, 130)\n",
    "population.mean(), population.std()"
   ]
  },
  {
   "cell_type": "markdown",
   "metadata": {},
   "source": [
    "#### Q 4\n",
    "At what temperature should we consider someone's temperature to be \"abnormal\"?\n",
    "    - Start by computing the margin of error and confidence interval.\n",
    "        - I would consider a value outside of (98.211094365463637, 98.287367172997918) to be abnormal \n"
   ]
  },
  {
   "cell_type": "code",
   "execution_count": 264,
   "metadata": {},
   "outputs": [
    {
     "name": "stdout",
     "output_type": "stream",
     "text": [
      "through resampling, the mean: 98.245687 has a confidence interval of  [ 98.187  98.305]\n",
      "through usual inference: the mean is  98.24923076923078 the calculated zscore is (98.211094365463637, 98.287367172997918)\n"
     ]
    }
   ],
   "source": [
    "# A\n",
    "sampled_1000 = compute_sample()\n",
    "sample_dist_mean = sampled_1000.mean()\n",
    "sample_dist_se = sampled_1000.std()\n",
    "sample_dist_ci = np.percentile(sampled_1000,[5,95])\n",
    "print('through resampling, the mean:', sample_dist_mean,'has a confidence interval of ', sample_dist_ci)\n",
    "\n",
    "#B\n",
    "z_value_for90 = stats.norm.ppf(q = 0.95)  # Get the z-critical value* same thing as \"1.645\"\n",
    "margin_of_error = z_value_for90 * (temps.std()/np.sqrt(1000))\n",
    "confidence_interval = (temps.mean() - margin_of_error,temps.mean() + margin_of_error)  \n",
    "print('through usual inference: the mean is ',temps.mean(),'the calculated zscore is', confidence_interval)"
   ]
  },
  {
   "cell_type": "code",
   "execution_count": 265,
   "metadata": {},
   "outputs": [
    {
     "data": {
      "text/plain": [
       "<function __main__.sample_plot>"
      ]
     },
     "execution_count": 265,
     "metadata": {},
     "output_type": "execute_result"
    },
    {
     "data": {
      "image/png": "[encoded data removed]",
      "text/plain": [
       "<matplotlib.figure.Figure at 0x2cae57c5240>"
      ]
     },
     "metadata": {},
     "output_type": "display_data"
    }
   ],
   "source": [
    "slider_n = widgets.IntSlider(min=10, max=130, value=100)\n",
    "slider_iters = widgets.IntSlider(min=10, max=1000, value=1000)\n",
    "interact(sample_plot, n=slider_n, iters = slider_iters)"
   ]
  },
  {
   "cell_type": "markdown",
   "metadata": {},
   "source": [
    "#### Q 5:\n",
    "Is there a significant difference between males and females in normal temperature?\n",
    "- What test did you use and why?\n",
    "    - We don't know the true variance of male / female\n",
    "- Write a story with your conclusion in the context of the original problem.\n",
    "    - overall, based on our 'gendered' hypothesis test, we see that women higher in terms of body temperature. In relation to the original question of whether true body temperature is at 98.6 -- it could be that several forms of bias happen to factor in. With one potential biasing factor being that a sampling method oversampled females which tend to have higher body temperatures. In our confidence intervals we see the high end for women being closer to 98.4 whereas men being closer to 98.12. "
   ]
  },
  {
   "cell_type": "code",
   "execution_count": 284,
   "metadata": {},
   "outputs": [
    {
     "name": "stdout",
     "output_type": "stream",
     "text": [
      "mean temps - women: 98.39384615384613 mean heart rate women: 74.15384615384616\n",
      "mean temps - men: 98.1046153846154 mean heart rate men: 73.36923076923077\n"
     ]
    }
   ],
   "source": [
    "g1 = df[df.gender == 'F'].temperature\n",
    "g2 = df[df.gender == 'M'].temperature\n",
    "\n",
    "stats.ttest_ind(\n",
    "    a = g1,\n",
    "    b= g2)\n",
    "print('mean temps - women:',g1.mean(),'mean heart rate women:',df[df.gender == 'F'].heart_rate.mean())\n",
    "print('mean temps - men:',g2.mean(),'mean heart rate men:',df[df.gender == 'M'].heart_rate.mean())\n",
    "# in this case we can reject the null hypothesis at alpha = .05; that the two means are the same"
   ]
  },
  {
   "cell_type": "code",
   "execution_count": 273,
   "metadata": {},
   "outputs": [
    {
     "data": {
      "text/plain": [
       "array([ 98.378125,  98.4125  ])"
      ]
     },
     "execution_count": 273,
     "metadata": {},
     "output_type": "execute_result"
    },
    {
     "data": {
      "image/png": "[encoded data removed]",
      "text/plain": [
       "<matplotlib.figure.Figure at 0x2cae5e0c048>"
      ]
     },
     "metadata": {},
     "output_type": "display_data"
    }
   ],
   "source": [
    "sample_plot(n=len(g1)-1, iters = 1000, data = g1)"
   ]
  },
  {
   "cell_type": "code",
   "execution_count": 272,
   "metadata": {},
   "outputs": [
    {
     "data": {
      "text/plain": [
       "array([ 98.0859375,  98.121875 ])"
      ]
     },
     "execution_count": 272,
     "metadata": {},
     "output_type": "execute_result"
    },
    {
     "data": {
      "image/png": "[encoded data removed]",
      "text/plain": [
       "<matplotlib.figure.Figure at 0x2cae5f69668>"
      ]
     },
     "metadata": {},
     "output_type": "display_data"
    }
   ],
   "source": [
    "sample_plot(n=len(g2)-1, iters = 1000, data = g2)"
   ]
  }
 ],
 "metadata": {
  "kernelspec": {
   "display_name": "Python 3",
   "language": "python",
   "name": "python3"
  },
  "language_info": {
   "codemirror_mode": {
    "name": "ipython",
    "version": 3
   },
   "file_extension": ".py",
   "mimetype": "text/x-python",
   "name": "python",
   "nbconvert_exporter": "python",
   "pygments_lexer": "ipython3",
   "version": "3.6.0"
  },
  "widgets": {
   "state": {
    "7c403148d1de451c9e90c1acce1aaab7": {
     "views": [
      {
       "cell_index": 13
      }
     ]
    }
   },
   "version": "1.2.0"
  }
 },
 "nbformat": 4,
 "nbformat_minor": 1
}
