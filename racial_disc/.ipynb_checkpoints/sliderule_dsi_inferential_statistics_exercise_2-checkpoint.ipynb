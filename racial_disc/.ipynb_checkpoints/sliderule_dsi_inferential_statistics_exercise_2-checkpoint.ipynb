{
 "cells": [
  {
   "cell_type": "markdown",
   "metadata": {},
   "source": [
    "# Examining Racial Discrimination in the US Job Market\n",
    "\n",
    "### Background\n",
    "Racial discrimination continues to be pervasive in cultures throughout the world. Researchers examined the level of racial discrimination in the United States labor market by randomly assigning identical résumés to black-sounding or white-sounding names and observing the impact on requests for interviews from employers.\n",
    "\n",
    "### Data\n",
    "In the dataset provided, each row represents a resume. The 'race' column has two values, 'b' and 'w', indicating black-sounding and white-sounding. The column 'call' has two values, 1 and 0, indicating whether the resume received a call from employers or not.\n",
    "\n",
    "Note that the 'b' and 'w' values in race are assigned randomly to the resumes when presented to the employer."
   ]
  },
  {
   "cell_type": "markdown",
   "metadata": {},
   "source": [
    "<div class=\"span5 alert alert-info\">\n",
    "### Exercises\n",
    "You will perform a statistical analysis to establish whether race has a significant impact on the rate of callbacks for resumes.\n",
    "\n",
    "Answer the following questions **in this notebook below and submit to your Github account**. \n",
    "\n",
    "   1. What test is appropriate for this problem? Does CLT apply?\n",
    "   2. What are the null and alternate hypotheses?\n",
    "   3. Compute margin of error, confidence interval, and p-value.\n",
    "   4. Write a story describing the statistical significance in the context or the original problem.\n",
    "   5. Does your analysis mean that race/name is the most important factor in callback success? Why or why not? If not, how would you amend your analysis?\n",
    "\n",
    "You can include written notes in notebook cells using Markdown: \n",
    "   - In the control panel at the top, choose Cell > Cell Type > Markdown\n",
    "   - Markdown syntax: http://nestacms.com/docs/creating-content/markdown-cheat-sheet\n",
    "\n",
    "\n",
    "#### Resources\n",
    "+ Experiment information and data source: http://www.povertyactionlab.org/evaluation/discrimination-job-market-united-states\n",
    "+ Scipy statistical methods: http://docs.scipy.org/doc/scipy/reference/stats.html \n",
    "+ Markdown syntax: http://nestacms.com/docs/creating-content/markdown-cheat-sheet\n",
    "</div>\n",
    "****"
   ]
  },
  {
   "cell_type": "code",
   "execution_count": 357,
   "metadata": {
    "collapsed": true
   },
   "outputs": [],
   "source": [
    "import pandas as pd\n",
    "import numpy as np\n",
    "from scipy import stats\n",
    "import seaborn as sns\n",
    "%matplotlib inline\n",
    "\n",
    "from matplotlib import pyplot"
   ]
  },
  {
   "cell_type": "code",
   "execution_count": 358,
   "metadata": {
    "scrolled": true
   },
   "outputs": [
    {
     "data": {
      "text/plain": [
       "(0.0644763857126236, 0.09650924056768417, 0.03203285485506058, 2435, 2435)"
      ]
     },
     "execution_count": 358,
     "metadata": {},
     "output_type": "execute_result"
    }
   ],
   "source": [
    "data = pd.io.stata.read_stata('data/us_job_market_discrimination.dta')\n",
    "data = data[['race','call']]\n",
    "\n",
    "data_b = data[data.race == 'b']\n",
    "data_w = data[data.race == 'w']\n",
    "\n",
    "mean_b = data_b.call.mean()\n",
    "mean_w = data_w.call.mean()\n",
    "mean_diff = data_w_mean - data_b_mean\n",
    "\n",
    "nsize_b = len(data_b)\n",
    "nsize_w = len(data_w)\n",
    "mean_b, mean_w, mean_diff, nsize_b, nsize_w\n",
    "\n"
   ]
  },
  {
   "cell_type": "code",
   "execution_count": 356,
   "metadata": {},
   "outputs": [
    {
     "data": {
      "text/plain": [
       "157.0"
      ]
     },
     "execution_count": 356,
     "metadata": {},
     "output_type": "execute_result"
    }
   ],
   "source": [
    "# number of callbacks for black-sounding names\n",
    "sum(data[data.race=='b'].call)"
   ]
  },
  {
   "cell_type": "markdown",
   "metadata": {
    "collapsed": true
   },
   "source": [
    "#### Q1. What test is appropriate for this problem? Does CLT apply?\n",
    "\n",
    "- I want to compare two means. \n",
    "- I will use a permutations test. \n",
    "    - Specifically a two sample, beacuse the difference between mean call back can be positive or negative.\n"
   ]
  },
  {
   "cell_type": "code",
   "execution_count": 367,
   "metadata": {},
   "outputs": [],
   "source": [
    "def two_sample_shuffle(nsize_a, nsize_b, data_in):\n",
    "    data_shuffled = data_in.sample(frac=1).reset_index(drop=True)\n",
    "    shuffle_diff = data_shuffled.head(nsize_a).mean() - data_shuffled.tail(nsize_b).mean()\n",
    "    return shuffle_diff\n",
    "\n",
    "def two_group_sample(nsize_a, nsize_b, data_in, iters):\n",
    "    stats = [two_sample_shuffle(nsize_a, nsize_b, data_in) for i in range(iters)]\n",
    "    return np.array(stats)\n",
    "\n",
    "def two_group_sample_plot(results_in, iters):\n",
    "    out = results_in\n",
    "    ci_90 = np.percentile(out,[5,95])\n",
    "    sns.plt.hist(np.array(out))\n",
    "    pyplot.plot([out.mean(),out.mean()],[0,iters*.3])\n",
    "    pyplot.plot([ci_90[0],ci_90[0]],[0,iters*.3])\n",
    "    pyplot.plot([ci_90[1],ci_90[1]],[0,iters*.3])\n",
    "    return ci_90, abs((ci_90[0] - ci_90[1])/2)\n"
   ]
  },
  {
   "cell_type": "markdown",
   "metadata": {},
   "source": [
    "#### Q2. What are the null and alternate hypotheses?\n",
    " - H0: There is no difference between the two groups\n",
    " - H1: There is a difference between the two groups"
   ]
  },
  {
   "cell_type": "markdown",
   "metadata": {},
   "source": [
    "#### Q3. Compute margin of error, confidence interval, and p-value.\n",
    "Results below:\n",
    "- where confidence interval is approximately -.01 to .01 \n",
    "- ME is .01 and\n",
    "- pvalue is approximately 0"
   ]
  },
  {
   "cell_type": "code",
   "execution_count": 368,
   "metadata": {
    "scrolled": true
   },
   "outputs": [
    {
     "name": "stdout",
     "output_type": "stream",
     "text": [
      "p value is approximately 0.0\n"
     ]
    },
    {
     "data": {
      "text/plain": [
       "(array([-0.01314168,  0.01314168]), 0.013141684234142303)"
      ]
     },
     "execution_count": 368,
     "metadata": {},
     "output_type": "execute_result"
    },
    {
     "data": {
      "image/png": "[encoded data removed]",
      "text/plain": [
       "<matplotlib.figure.Figure at 0x1add31dd3c8>"
      ]
     },
     "metadata": {},
     "output_type": "display_data"
    }
   ],
   "source": [
    "run = two_group_sample(nsize_a =nsize_w, nsize_b= nsize_b, data_in = data.call, iters = 1000)\n",
    "perc95 = np.percentile(run, 97.5)\n",
    "p_value = sum(run > mean_diff)/1000\n",
    "print('p value is approximately', p_value)\n",
    "two_group_sample_plot(results_in = run, iters = 1000)\n"
   ]
  },
  {
   "cell_type": "markdown",
   "metadata": {},
   "source": [
    "#### Q4: Write a story describing the statistical significance in the context or the original problem.\n",
    "- When we consider the counterfactual: that there's no difference in between the two groups -- we essentially assume that both groups (black and white) are drawn from the same population. So in our case, we randomly shuffle the groups and assign the members into black and white. Given this we create a sample distribution of mean differences of the two groups. \n",
    "- We then look at the sample distribution and find the probability of finding a result (3.2% call back difference) as extreme as ours. In 1000 interations, we find that it's approximately 0 that we have a difference that the researchers have seen. "
   ]
  },
  {
   "cell_type": "markdown",
   "metadata": {},
   "source": [
    "#### Q5: Does your analysis mean that race/name is the most important factor in callback success? Why or why not? If not, how would you amend your analysis?\n",
    " - this analysis says nothing about the priority of each predictor. \n",
    " - in order to see which variable tells the most of the story within the data, you'd have to look at the explanatory power of each variable. To do this, we could look at the R-Squared of each variable (a measure which tells us how important a variable is )"
   ]
  },
  {
   "cell_type": "code",
   "execution_count": null,
   "metadata": {
    "collapsed": true
   },
   "outputs": [],
   "source": []
  }
 ],
 "metadata": {
  "kernelspec": {
   "display_name": "Python 3",
   "language": "python",
   "name": "python3"
  },
  "language_info": {
   "codemirror_mode": {
    "name": "ipython",
    "version": 3
   },
   "file_extension": ".py",
   "mimetype": "text/x-python",
   "name": "python",
   "nbconvert_exporter": "python",
   "pygments_lexer": "ipython3",
   "version": "3.6.0"
  }
 },
 "nbformat": 4,
 "nbformat_minor": 1
}
